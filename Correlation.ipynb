{
 "cells": [
  {
   "cell_type": "markdown",
   "id": "lyric-wealth",
   "metadata": {},
   "source": [
    "# Spearman Rank Order Correlation"
   ]
  },
  {
   "cell_type": "code",
   "execution_count": null,
   "id": "smooth-kitty",
   "metadata": {},
   "outputs": [],
   "source": [
    "import pandas as pd\n",
    "import numpy as np\n",
    "import scipy\n",
    "from scipy.stats import spearmanr as spearmanr\n",
    "import seaborn as sns\n",
    "from matplotlib import rcParams"
   ]
  },
  {
   "cell_type": "code",
   "execution_count": 2,
   "id": "capable-architecture",
   "metadata": {},
   "outputs": [],
   "source": [
    "'''\n",
    "import mock energy data and weather data, the data sets are already cleaned beforehand\n",
    "the data are collected from year 2020\n",
    "and then change the data set into the form of weekly data set for further correlation calculation\n",
    "''' \n",
    "\n",
    "### import data sets\n",
    "energy = pd.read_csv(r'data_set/Energy.csv')\n",
    "energy['DateTime'] = pd.to_datetime(energy['DateTime']) \n",
    "energy = energy.set_index('DateTime')\n",
    "weather = pd.read_csv(r'data_set/Radiation.csv')\n",
    "weather['DateTime'] = pd.to_datetime(weather['DateTime']) \n",
    "weather = weather.set_index('DateTime')"
   ]
  },
  {
   "cell_type": "code",
   "execution_count": 9,
   "id": "manufactured-vinyl",
   "metadata": {},
   "outputs": [],
   "source": [
    "# create and modify to weekly time frame\n",
    "def Make_weekly(df):\n",
    "    \n",
    "    # create columns of time tags and copy to the new dataframe\n",
    "    df['doy'] = df.index.dayofyear\n",
    "    df['woy'] = df.index.isocalendar().week\n",
    "    \n",
    "    length = int(len(df)/24/7) + 1\n",
    "    columns = ['Week '+str(i+1) for i in range(0, length)]\n",
    "    dtype = [(columns, 'float64')]\n",
    "    values = np.zeros((24*7,df['woy'].max()))\n",
    "    df_weekly= pd.DataFrame(values,  columns=columns)\n",
    "    \n",
    "    firstweek = len(df[df['woy'] == df['woy'].min()])\n",
    "    lastweek = len(df[df['woy'] == df['woy'].max()])\n",
    "    for x in range (firstweek, int(len(df)-lastweek), 24*7):\n",
    "        #first week\n",
    "        zeros = np.zeros(24*7 - len(df.iloc[0 : firstweek]))\n",
    "        week1 = np.array(df.iloc[0 : firstweek, 0])\n",
    "        week1 = np.append(week1,zeros)\n",
    "        df_weekly['Week 1'] = week1\n",
    "    \n",
    "        #last week\n",
    "        zeros = np.zeros(24*7 - len(df.iloc[len(df)- lastweek : len(df)]))\n",
    "        week_last = np.array(df.iloc[len(df)- lastweek : len(df), 0])\n",
    "        week_last = np.append(week_last,zeros)\n",
    "        df_weekly['Week '+ str(int(len(df)/24/7) + 1)] = week_last\n",
    "\n",
    "        #otehr weeks\n",
    "        week = int((x-firstweek)/ (24*7))\n",
    "        start = x\n",
    "        end = x + 24*7\n",
    "        a = np.array(df.iloc[start : end, 0])\n",
    "        df_weekly['Week '+ str(week+2)] = a\n",
    "\n",
    "    df_weekly = df_weekly.swapaxes(\"index\", \"columns\") \n",
    "    df_weekly\n",
    "    return df_weekly"
   ]
  },
  {
   "cell_type": "code",
   "execution_count": 4,
   "id": "palestinian-monitor",
   "metadata": {},
   "outputs": [],
   "source": [
    "### calculate correlation\n",
    "def Correlation(df1_weekly, df2_weekly):\n",
    "    \n",
    "    #create arrays\n",
    "    df1_array = df1_weekly.to_numpy()\n",
    "    df2_array = df2_weekly.to_numpy()\n",
    "    #ROC correlations\n",
    "    length = len(df1_array)\n",
    "    correlation = np.zeros(length)\n",
    "    p_value = np.zeros(length)\n",
    "    for x in range(length):\n",
    "        correlation[x], p_value[x] = spearmanr(df1_array[x], df2_array[x])\n",
    "        \n",
    "    #create correlation data frame and make the plot\n",
    "    dtype = [('2020','float64')]  #the data is from year 2020\n",
    "    values = np.zeros(len(df1_weekly), dtype=dtype)\n",
    "    index = ['Week'+str(i) for i in range(1, len(df1_weekly)+1)]\n",
    "    #create data frame\n",
    "    df_correlation = pd.DataFrame(values, index=index)\n",
    "    df_correlation['2020'] = correlation\n",
    "    df_correlation = df_correlation.swapaxes(\"index\", \"columns\") \n",
    "    \n",
    "    return df_correlation\n"
   ]
  },
  {
   "cell_type": "code",
   "execution_count": 5,
   "id": "weekly-geometry",
   "metadata": {},
   "outputs": [],
   "source": [
    "### Generate a custom diverging colormap and make plot\n",
    "def ROC_heatmap(df_correlation):\n",
    "    rcParams['figure.figsize'] = 20,10\n",
    "    sns.set_theme()\n",
    "    yticks = df_correlation.index\n",
    "    xticks = df_correlation.columns\n",
    "    cmap = sns.diverging_palette(240, 10, as_cmap=True)\n",
    "    g = sns.heatmap(df_correlation,linewidth=0,yticklabels=yticks,xticklabels=xticks,cmap=cmap, vmax=1., center=0, vmin=-1.,square=True, cbar_kws={\"shrink\": .5})\n",
    "    g.set_yticklabels(g.get_yticklabels(), rotation = 0)\n",
    "    g.set_xticklabels(g.get_xticklabels(), rotation=90)\n",
    "    g.set_ylabel('Time (Year)',rotation='vertical')\n",
    "    g.set_title('Spearman Rank Order Correlation Heat Map')\n",
    "    fig = g.get_figure()\n",
    "    fig.savefig(r'figure/correlation.pdf', format='pdf', bbox_inches='tight')"
   ]
  },
  {
   "cell_type": "code",
   "execution_count": 10,
   "id": "silver-holder",
   "metadata": {
    "tags": []
   },
   "outputs": [
    {
     "data": {
      "image/png": "[encoded data removed]",
      "text/plain": [
       "<Figure size 1440x720 with 2 Axes>"
      ]
     },
     "metadata": {},
     "output_type": "display_data"
    }
   ],
   "source": [
    "### change to weekly data frame\n",
    "energy_weekly = Make_weekly(energy)\n",
    "weather_weekly = Make_weekly(weather)\n",
    "\n",
    "### calculate correlation\n",
    "df_correlation = Correlation(energy_weekly, weather_weekly)  \n",
    "\n",
    "### Generate a custom diverging colormap and make plot\n",
    "ROC_heatmap(df_correlation)"
   ]
  },
  {
   "cell_type": "code",
   "execution_count": null,
   "id": "sought-holmes",
   "metadata": {},
   "outputs": [],
   "source": []
  }
 ],
 "metadata": {
  "interpreter": {
   "hash": "a0edd337a50160906abfeca0adac091050df242eaf1047eca165c5ab955df40d"
  },
  "kernelspec": {
   "display_name": "EDA",
   "language": "python",
   "name": "python3"
  },
  "language_info": {
   "codemirror_mode": {
    "name": "ipython",
    "version": 3
   },
   "file_extension": ".py",
   "mimetype": "text/x-python",
   "name": "python",
   "nbconvert_exporter": "python",
   "pygments_lexer": "ipython3",
   "version": "3.9.1"
  }
 },
 "nbformat": 4,
 "nbformat_minor": 5
}
